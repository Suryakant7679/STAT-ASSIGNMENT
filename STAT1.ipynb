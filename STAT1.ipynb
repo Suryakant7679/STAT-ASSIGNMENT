{
 "cells": [
  {
   "cell_type": "markdown",
   "id": "3aef32e3-c68e-4d08-aa43-5a1f993e10d6",
   "metadata": {},
   "source": [
    "Q1. What is Statistics?"
   ]
  },
  {
   "cell_type": "markdown",
   "id": "f30afb98-5e3c-44f7-9f0c-1a22b9046fdd",
   "metadata": {},
   "source": [
    "ANS:- Statistics is the branch of science whict deals with collection of data and analyzing and conclusion of data."
   ]
  },
  {
   "cell_type": "markdown",
   "id": "c54febe9-22ac-461e-9352-71ea985daaba",
   "metadata": {},
   "source": [
    "Q2. Define the different types of statistics and give an example of when each type might be used."
   ]
  },
  {
   "cell_type": "markdown",
   "id": "1af00420-77df-4aa9-8a7b-42b416ddb9ae",
   "metadata": {},
   "source": [
    "There are two types of statistics Descriptive and Inferential statistics.\n",
    "  Descriptive Statistics data consist of organizing and summarizing data whereas \n",
    "    e.g. finding mean mode median etc\n",
    "    Inferential stat consist of using data you have measured to form conclusion \n",
    "    e.g. pointing out which data is bigger and which one is smaller from any specific data set.\n"
   ]
  },
  {
   "cell_type": "markdown",
   "id": "dd601147-a0df-43ab-bc34-f0e090be1207",
   "metadata": {},
   "source": [
    "Q3. What are the different types of data and how do they differ from each other? Provide an example of\n",
    "each type of data."
   ]
  },
  {
   "cell_type": "markdown",
   "id": "f6bfd853-6306-4904-bd75-04d87508601e",
   "metadata": {},
   "source": [
    "Ans :- There are two types of data Quantatitive data and qulitative data.\n",
    "Quantatitive data has further two parts descrete and continuous .\n",
    "e.g. whole number \n",
    "Qualititive data is also called catagorical data, it has further two types nominal and ordinal .\n",
    "e.g. Suppose ma data set has some data which indicate gender as male and female , then it will come under qualitative data."
   ]
  },
  {
   "cell_type": "markdown",
   "id": "f8423b7f-7bb6-48a5-a9cc-222e2eab3fa2",
   "metadata": {},
   "source": [
    "Q4. Categorise the following datasets with respect to quantitative and qualitative data types:\n",
    "\n",
    "(i) Grading in exam: A+, A, B+, B, C+, C, D, E ///   ANS =QUALITATIVE DATA\n",
    "\n",
    "(ii) Colour of mangoes: yellow, green, orange, red   ANS= QUALITATIVE DATA\n",
    "\n",
    "(iii) Height data of a class: [178.9, 179, 179.5, 176, 177.2, 178.3, 175.8,...]   ANS = QUANTITATIVE DATA \n",
    "\n",
    "(iv) Number of mangoes exported by a farm: [500, 600, 478, 672, ...]   ANS = QUANTITATIVE DATA"
   ]
  },
  {
   "cell_type": "markdown",
   "id": "e730c3d2-3c19-4119-b424-5229ff65f8a3",
   "metadata": {},
   "source": [
    "Q5. Explain the concept of levels of measurement and give an example of a variable for each level."
   ]
  },
  {
   "cell_type": "markdown",
   "id": "53d48e2f-c495-4a2c-ab38-c7c0a65c8c77",
   "metadata": {},
   "source": [
    "The 4 levels of measurement, also known as measurement scales, are nominal, ordinal, interval, and ratio. These levels are used to categorize and describe data based on their characteristics and properties."
   ]
  },
  {
   "cell_type": "markdown",
   "id": "8c149acb-c268-48b1-a6ab-12d2dfca6000",
   "metadata": {},
   "source": [
    "Q6. Why is it important to understand the level of measurement when analyzing data? Provide an\n",
    "example to illustrate your answer.\n"
   ]
  },
  {
   "cell_type": "markdown",
   "id": "96fe4f6f-3b08-480c-a193-912e84ee6ab3",
   "metadata": {},
   "source": [
    "ANS:- The level at which you measure a variable determines how you can analyze your data. Depending on the level of measurement, you can perform different descriptive statistics to get an overall summary of your data and inferential statistics to see if your results support or refute your hypothesis."
   ]
  },
  {
   "cell_type": "markdown",
   "id": "b61556a5-37fb-44fd-bf12-b7c896d40c1d",
   "metadata": {},
   "source": [
    "Nominal: the data can only be categorized\n",
    "\n",
    "Ordinal: the data can be categorized and ranked\n",
    "\n",
    "Interval: the data can be categorized, ranked, and evenly spaced\n",
    "\n",
    "Ratio: the data can be categorized, ranked, evenly spaced, and has a natural zero."
   ]
  },
  {
   "cell_type": "markdown",
   "id": "495bd338-72fb-4d8a-9f6d-381ff0f1226b",
   "metadata": {},
   "source": [
    "Q7. How nominal data type is different from ordinal data type."
   ]
  },
  {
   "cell_type": "markdown",
   "id": "96644073-4db8-473c-b8cd-57e7bb1d06f6",
   "metadata": {},
   "source": [
    "ANS:- Nominal data is a group of non-parametric variables, whereas Ordinal data is a group of non-parametric ordered variables.\n",
    "\n",
    "Ordinal data is analyzed by mode, median, quartiles, and percentile, whereas nominal data is analyzed by grouping variables into categories and calculating the distribution mode."
   ]
  },
  {
   "cell_type": "markdown",
   "id": "166a34ff-57cc-4996-85ba-23944f2da517",
   "metadata": {},
   "source": [
    "Q8. Which type of plot can be used to display data in terms of range?"
   ]
  },
  {
   "cell_type": "markdown",
   "id": "f7e3d02a-359d-4e36-aa8a-8b77bec11a36",
   "metadata": {},
   "source": [
    "ANS:- Histogram"
   ]
  },
  {
   "cell_type": "markdown",
   "id": "7e4a6fad-f867-43d6-b107-191dd6974e10",
   "metadata": {},
   "source": [
    "Q9. Describe the difference between descriptive and inferential statistics. Give an example of each\n",
    "type of statistics and explain how they are used."
   ]
  },
  {
   "cell_type": "markdown",
   "id": "db998223-438a-432d-ab90-1d0ee709b2de",
   "metadata": {},
   "source": [
    "ANS:- 1. Descriptive Statistics: Descriptive statistics is a term given to the analysis of data that helps to describe, show and summarize data in a meaningful way. It is a simple way to describe our data. Descriptive statistics is very important to present our raw data ineffective/meaningful way using numerical calculations or graphs or tables. This type of statistics is applied to already known data. "
   ]
  },
  {
   "cell_type": "markdown",
   "id": "8b65caa4-78be-46d3-a681-0993d00a4925",
   "metadata": {},
   "source": [
    "2. Inferential Statistics: In inferential statistics, predictions are made by taking any group of data in which you are interested. It can be defined as a random sample of data taken from a population to describe and make inferences about the population. Any group of data that includes all the data you are interested in is known as population. It basically allows you to make predictions by taking a small sample instead of working on the whole population."
   ]
  },
  {
   "cell_type": "markdown",
   "id": "c90ed014-9b7e-467e-bf0b-b2f7dc659142",
   "metadata": {},
   "source": [
    "Q10. What are some common measures of central tendency and variability used in statistics? Explain\n",
    "how each measure can be used to describe a dataset."
   ]
  },
  {
   "cell_type": "markdown",
   "id": "84f49c52-c591-4784-a334-28949710ff13",
   "metadata": {},
   "source": [
    "ANS:- The central tendency measure is defined as the number used to represent the center or middle of a set of data values. The three commonly used measures of central tendency are the mean, median, and mode. A statistic that tells us how the data values are dispersed or spread out is called the measure of dispersion."
   ]
  },
  {
   "cell_type": "markdown",
   "id": "b00d0d0c-8527-443f-83b9-bccfac5dd6c7",
   "metadata": {},
   "source": [
    "MEAN= sum of all observation / total observation\n",
    "\n",
    "MODE= frequent data is called mode"
   ]
  },
  {
   "cell_type": "code",
   "execution_count": null,
   "id": "c1389c52-702a-48e5-94d7-f6a80fcc66e9",
   "metadata": {},
   "outputs": [],
   "source": []
  }
 ],
 "metadata": {
  "kernelspec": {
   "display_name": "Python 3 (ipykernel)",
   "language": "python",
   "name": "python3"
  },
  "language_info": {
   "codemirror_mode": {
    "name": "ipython",
    "version": 3
   },
   "file_extension": ".py",
   "mimetype": "text/x-python",
   "name": "python",
   "nbconvert_exporter": "python",
   "pygments_lexer": "ipython3",
   "version": "3.10.8"
  }
 },
 "nbformat": 4,
 "nbformat_minor": 5
}
